{
 "cells": [
  {
   "cell_type": "markdown",
   "metadata": {},
   "source": [
    "# Modeling Notebook\n",
    "\n",
    "Welcome to the Modeling Notebook. This notebook focuses on building and evaluating machine learning models based on the insights gained from EDA.\n",
    "\n",
    "## Objectives:\n",
    "- **Model Selection**: Trying out different models to see which one performs the best.\n",
    "- **Model Tuning**: Optimizing the performance of the selected model.\n",
    "- **Model Evaluation**: Assessing the performance of the model using appropriate metrics.\n",
    "\n",
    "## Dataset:\n",
    "In this notebook, we will be working with the cleaned dataset located at `./data/features/movies_dataset.parquet`, which is the result of feature engineering process in the preceding EDA Notebook.\n"
   ]
  },
  {
   "cell_type": "code",
   "execution_count": null,
   "metadata": {},
   "outputs": [],
   "source": []
  }
 ],
 "metadata": {
  "language_info": {
   "name": "python"
  },
  "orig_nbformat": 4
 },
 "nbformat": 4,
 "nbformat_minor": 2
}
