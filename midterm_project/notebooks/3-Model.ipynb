{
 "cells": [
  {
   "cell_type": "markdown",
   "metadata": {},
   "source": [
    "# Modeling Notebook\n",
    "\n",
    "Welcome to the Modeling Notebook. This notebook focuses on building and evaluating machine learning models based on the insights gained from EDA.\n",
    "\n",
    "## Objectives:\n",
    "- **Model Selection**: Trying out different models to see which one performs the best.\n",
    "- **Model Tuning**: Optimizing the performance of the selected model.\n",
    "- **Model Evaluation**: Assessing the performance of the model using appropriate metrics.\n",
    "\n",
    "## Dataset:\n",
    "In this notebook, we will be working with the cleaned dataset located at `./data/features/movies_dataset.parquet`, which is the result of feature engineering process in the preceding EDA Notebook.\n"
   ]
  },
  {
   "cell_type": "code",
   "execution_count": 30,
   "metadata": {},
   "outputs": [],
   "source": [
    "import pandas as pd\n",
    "from sklearn.ensemble import RandomForestClassifier\n",
    "from sklearn.metrics import accuracy_score\n",
    "from sklearn.metrics import f1_score, hamming_loss\n",
    "from skmultilearn.model_selection import iterative_train_test_split\n",
    "from sklearn.feature_extraction import DictVectorizer\n",
    "from sklearn.preprocessing import StandardScaler\n",
    "from catboost import CatBoostClassifier, Pool\n"
   ]
  },
  {
   "cell_type": "code",
   "execution_count": 31,
   "metadata": {},
   "outputs": [],
   "source": [
    "dataset_df = pd.read_parquet(\"../data/cleaned/selected_features.parquet\")\n",
    "labels = dataset_df[[\"numerical_ROI_category\", 'numerical_rating_category', 'numerical_award_category']]\n",
    "dataset_df.drop([\"numerical_ROI_category\", 'numerical_rating_category', 'numerical_award_category'], axis=1, inplace=True)\n",
    "\n",
    "X_np = dataset_df.to_numpy()\n",
    "y_np = labels.to_numpy()\n",
    "\n",
    "X_full_train, y_full_train, X_test, y_test = iterative_train_test_split(X_np, y_np, test_size = 0.2)\n",
    "X_train, y_train, X_val, y_val = iterative_train_test_split(X_full_train, y_full_train, test_size = 0.25)\n",
    "\n",
    "X_train_df = pd.DataFrame(X_train, columns=dataset_df.columns)  \n",
    "X_val_df = pd.DataFrame(X_val, columns=dataset_df.columns) \n",
    "\n",
    "y_train_df = pd.DataFrame(y_train, columns=labels.columns)  \n",
    "y_val_df = pd.DataFrame(y_val, columns=labels.columns) \n",
    "\n",
    "dv = DictVectorizer(sparse=True)\n",
    "X_train_df_t = dv.fit_transform(X_train_df.to_dict(orient='records'))\n",
    "X_val_df_t = dv.transform(X_val_df.to_dict(orient='records'))\n",
    "\n",
    "scaler = StandardScaler(with_mean=False)\n",
    "X_train_df_t = scaler.fit_transform(X_train_df_t)\n",
    "X_val_df_t = scaler.transform(X_val_df_t)\n"
   ]
  },
  {
   "cell_type": "code",
   "execution_count": 32,
   "metadata": {},
   "outputs": [
    {
     "name": "stdout",
     "output_type": "stream",
     "text": [
      "Random Forest Classifier Metrics:\n",
      "F1 Score (Micro): 0.43\n",
      "F1 Score (Macro): 0.42\n",
      "Hamming Loss: 0.20\n",
      "accuracy_score: 0.57\n"
     ]
    }
   ],
   "source": [
    "random_forest_classifier = RandomForestClassifier()\n",
    "random_forest_classifier.fit(X_train_df_t, y_train)\n",
    "rf_y_pred = random_forest_classifier.predict(X_val_df_t)\n",
    "\n",
    "print('Random Forest Classifier Metrics:')\n",
    "print(f'F1 Score (Micro): {f1_score(y_val, rf_y_pred, average=\"micro\"):.2f}')\n",
    "print(f'F1 Score (Macro): {f1_score(y_val, rf_y_pred, average=\"macro\"):.2f}')\n",
    "print(f'Hamming Loss: {hamming_loss(y_val, rf_y_pred):.2f}')\n",
    "print(f'accuracy_score: {accuracy_score(y_val, rf_y_pred):.2f}')"
   ]
  },
  {
   "cell_type": "code",
   "execution_count": 33,
   "metadata": {},
   "outputs": [
    {
     "data": {
      "application/vnd.jupyter.widget-view+json": {
       "model_id": "ddccbace58ca4797959966f1485960a5",
       "version_major": 2,
       "version_minor": 0
      },
      "text/plain": [
       "MetricVisualizer(layout=Layout(align_self='stretch', height='500px'))"
      ]
     },
     "metadata": {},
     "output_type": "display_data"
    },
    {
     "name": "stdout",
     "output_type": "stream",
     "text": [
      "Learning rate set to 0.062085\n",
      "0:\tlearn: 0.2306836\ttest: 0.2358049\tbest: 0.2358049 (0)\ttotal: 10.9ms\tremaining: 5.42s\n",
      "50:\tlearn: 0.1887479\ttest: 0.2077488\tbest: 0.2077488 (50)\ttotal: 454ms\tremaining: 4s\n",
      "100:\tlearn: 0.1653678\ttest: 0.2021821\tbest: 0.2012915 (90)\ttotal: 852ms\tremaining: 3.37s\n",
      "150:\tlearn: 0.1523788\ttest: 0.2024048\tbest: 0.2012915 (90)\ttotal: 1.24s\tremaining: 2.86s\n",
      "200:\tlearn: 0.1333779\ttest: 0.2019595\tbest: 0.2004008 (160)\ttotal: 1.76s\tremaining: 2.62s\n",
      "250:\tlearn: 0.1166778\ttest: 0.2024048\tbest: 0.1999555 (230)\ttotal: 2.15s\tremaining: 2.13s\n",
      "300:\tlearn: 0.1040600\ttest: 0.2010688\tbest: 0.1999555 (230)\ttotal: 2.51s\tremaining: 1.66s\n",
      "350:\tlearn: 0.0941884\ttest: 0.2010688\tbest: 0.1999555 (230)\ttotal: 2.86s\tremaining: 1.22s\n",
      "400:\tlearn: 0.0843910\ttest: 0.2001781\tbest: 0.1992875 (360)\ttotal: 3.25s\tremaining: 802ms\n",
      "450:\tlearn: 0.0750390\ttest: 0.1997328\tbest: 0.1992875 (360)\ttotal: 3.63s\tremaining: 394ms\n",
      "499:\tlearn: 0.0680621\ttest: 0.2004008\tbest: 0.1992875 (360)\ttotal: 3.98s\tremaining: 0us\n",
      "\n",
      "bestTest = 0.1992874638\n",
      "bestIteration = 360\n",
      "\n",
      "Shrink model to first 361 iterations.\n",
      "Accuracy: 0.5771543086172345\n",
      "Accuracy for class 0: 0.7895791583166333\n",
      "Accuracy for class 1: 0.8082832331329325\n",
      "Accuracy for class 2: 0.8042752171008684\n",
      "HammingLoss: 0.1993\n",
      "MeanAccuracyPerClass: 0.8007\n",
      "HammingLoss + MeanAccuracyPerClass = 1.0\n",
      "Precision\n",
      "class=0: 0.6752\n",
      "class=1: 0.6849\n",
      "class=2: 0.6719\n",
      "\n",
      "Recall\n",
      "class=0: 0.2865\n",
      "class=1: 0.4347\n",
      "class=2: 0.4474\n",
      "\n",
      "F1\n",
      "class=0: 0.4023\n",
      "class=1: 0.5318\n",
      "class=2: 0.5371\n",
      "\n"
     ]
    }
   ],
   "source": [
    "train_pool = Pool(X_train_df_t, y_train)\n",
    "val_pool = Pool(X_val_df_t, y_val)\n",
    "\n",
    "catboost_classifier = CatBoostClassifier(loss_function='MultiLogloss',\n",
    "    eval_metric='HammingLoss',\n",
    "    iterations=500, random_state=1)\n",
    "catboost_classifier.fit(train_pool, eval_set=val_pool, metric_period=10, plot=True, verbose=50)\n",
    "\n",
    "val_predict = catboost_classifier.predict(X_val_df_t)\n",
    "from catboost.utils import eval_metric\n",
    "accuracy = eval_metric(y_val, val_predict, 'Accuracy')[0]\n",
    "print(f'Accuracy: {accuracy}')\n",
    "\n",
    "accuracy_per_class = eval_metric(y_val, val_predict, 'Accuracy:type=PerClass')\n",
    "for cls, value in zip(catboost_classifier.classes_, accuracy_per_class):\n",
    "    print(f'Accuracy for class {cls}: {value}')\n",
    "\n",
    "hamming = eval_metric(y_val, val_predict, 'HammingLoss')[0]\n",
    "print(f'HammingLoss: {hamming:.4f}')\n",
    "mean_accuracy_per_class = sum(accuracy_per_class) / len(accuracy_per_class)\n",
    "print(f'MeanAccuracyPerClass: {mean_accuracy_per_class:.4f}')\n",
    "print(f'HammingLoss + MeanAccuracyPerClass = {hamming + mean_accuracy_per_class}')\n",
    "\n",
    "for metric in ('Precision', 'Recall', 'F1'):\n",
    "    print(metric)\n",
    "    values = eval_metric(y_val, val_predict, metric)\n",
    "    for cls, value in zip(catboost_classifier.classes_, values):\n",
    "        print(f'class={cls}: {value:.4f}')\n",
    "    print()\n"
   ]
  }
 ],
 "metadata": {
  "kernelspec": {
   "display_name": "ml_camp",
   "language": "python",
   "name": "python3"
  },
  "language_info": {
   "codemirror_mode": {
    "name": "ipython",
    "version": 3
   },
   "file_extension": ".py",
   "mimetype": "text/x-python",
   "name": "python",
   "nbconvert_exporter": "python",
   "pygments_lexer": "ipython3",
   "version": "3.11.4"
  },
  "orig_nbformat": 4
 },
 "nbformat": 4,
 "nbformat_minor": 2
}
