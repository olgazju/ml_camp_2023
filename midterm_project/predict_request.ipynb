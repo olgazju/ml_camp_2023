{
 "cells": [
  {
   "cell_type": "markdown",
   "metadata": {},
   "source": [
    "This Jupyter cell contains a code snippet that acts as a client to request predictions from our deployed web service. It sends an HTTP POST request to the service's /predict endpoint, located at http://127.0.0.1:8000/predict. The request includes a JSON object (client), representing a sample movie with various features like runtime, budget, popularity metrics, and more. The service is expected to process this data, apply the trained machine learning model, and return a prediction. The .json() method at the end of the request call extracts the JSON response from the service, which includes the predicted outcome. This setup allows us to interact with our model in a real-world-like scenario, testing how it would perform with new data samples.\n",
    "\n",
    "To run the web service, use the following command in the terminal:\n",
    "\n",
    "```bash\n",
    "uvicorn predict:app --reload\n",
    "```"
   ]
  },
  {
   "cell_type": "markdown",
   "metadata": {},
   "source": [
    "Samples for requests\n",
    "\n",
    "1. paws of fury: the legend of hank\n",
    "\n",
    "'numerical_ROI_category': 0, 'numerical_rating_category': 0, 'numerical_award_category': 0\n",
    "\n",
    "{'runtime': 94, 'collection': False, 'is_english': 1, 'log_adjusted_budget': 17.652964042359297, 'winter': 0, 'animation': 1, 'drama': 0, 'moderate performing': 1, 'others': 1, 'num_spoken_languages': 1, 'num_production_companies': 12, 'num_production_countries': 3, 'is_foreign': 0, 'director_popularity': 4.233, 'writer_popularity': 1.5815, 'producer_popularity': 2.1439999999999997, 'average_crew_popularity': 2.215143750000002, 'number_crew_members': 160, 'average_cast_popularity': 10.43676744186047, 'number_cast_members': 43.0}\n",
    "\n",
    "2. the snowman\n",
    "\n",
    "'numerical_ROI_category': 0, 'numerical_rating_category': 0, 'numerical_award_category': 0\n",
    "\n",
    "{'runtime': 119, 'collection': False, 'is_english': 1, 'log_adjusted_budget': 17.57949013864461, 'winter': 0, 'animation': 0, 'drama': 0, 'moderate performing': 1, 'others': 1, 'num_spoken_languages': 1, 'num_production_companies': 5, 'num_production_countries': 4, 'is_foreign': 0, 'director_popularity': 5.122, 'writer_popularity': 4.429, 'producer_popularity': 2.481, 'average_crew_popularity': 1.863615999999999, 'number_crew_members': 125, 'average_cast_popularity': 8.756452830188682, 'number_cast_members': 53.0}\n",
    "\n",
    "3. visaranai\n",
    "\n",
    "'numerical_ROI_category': 1, 'numerical_rating_category': 1, 'numerical_award_category': 1\n",
    "\n",
    "{'runtime': 118, 'collection': False, 'is_english': 0, 'log_adjusted_budget': 12.938608140940532, 'winter': 1, 'animation': 0, 'drama': 1, 'moderate performing': 1, 'others': 0, 'num_spoken_languages': 3, 'num_production_companies': 1, 'num_production_countries': 1, 'is_foreign': 1, 'director_popularity': 2.843, 'writer_popularity': 2.843, 'producer_popularity': 5.390499999999999, 'average_crew_popularity': 2.2311875, 'number_crew_members': 16, 'average_cast_popularity': 4.1337222222222225, 'number_cast_members': 18.0}\n",
    "\n",
    "4. hunt for the wilderpeople \n",
    "\n",
    "'numerical_ROI_category': 1, 'numerical_rating_category': 1, 'numerical_award_category': 1\n",
    "\n",
    "{runtime': 101, 'collection': False, 'is_english': 1, 'log_adjusted_budget': 14.97569907645816, 'winter': 0, 'animation': 0, 'drama': 1, 'moderate performing': 1, 'others': 0, 'num_spoken_languages': 1, 'num_production_companies': 3, 'num_production_countries': 1, 'is_foreign': 1, 'director_popularity': 31.364, 'writer_popularity': 31.364, 'producer_popularity': 8.69475, 'average_crew_popularity': 5.298608695652175, 'number_crew_members': 23, 'average_cast_popularity': 6.800954545454544, 'number_cast_members': 22.0}\n",
    "\n",
    "5. sing street\n",
    "\n",
    "'numerical_ROI_category': 0, 'numerical_rating_category': 1, 'numerical_award_category': 1\n",
    "\n",
    "{'runtime': 106, 'collection': False, 'is_english': 1, 'log_adjusted_budget': 15.445702705703896, 'winter': 0, 'animation': 0, 'drama': 1, 'moderate performing': 1, 'others': 1, 'num_spoken_languages': 1, 'num_production_companies': 6, 'num_production_countries': 3, 'is_foreign': 0, 'director_popularity': 4.659, 'writer_popularity': 4.659, 'producer_popularity': 2.6431428571428577, 'average_crew_popularity': 2.6812, 'number_crew_members': 35, 'average_cast_popularity': 6.0548888888888905, 'number_cast_members': 27.0}\n"
   ]
  },
  {
   "cell_type": "code",
   "execution_count": 4,
   "metadata": {},
   "outputs": [
    {
     "data": {
      "text/plain": [
       "{'prediction': [[0, 1, 0]]}"
      ]
     },
     "execution_count": 4,
     "metadata": {},
     "output_type": "execute_result"
    }
   ],
   "source": [
    "import requests\n",
    "url = \"http://127.0.0.1:8000/predict\"\n",
    "client = {\"runtime\": 94, \"collection\": False, \"is_english\": 1, \"log_adjusted_budget\": 17.652964042359297, \"winter\": 0, \"animation\": 1, \"drama\": 0, \"moderate performing\": 1, \"others\": 1, \"num_spoken_languages\": 1, \"num_production_companies\": 12, \"num_production_countries\": 3, \"is_foreign\": 0, \"director_popularity\": 4.233, \"writer_popularity\": 1.5815, \"producer_popularity\": 2.1439999999999997, \"average_crew_popularity\": 2.215143750000002, \"number_crew_members\": 160, \"average_cast_popularity\": 10.43676744186047, \"number_cast_members\": 43.0}\n",
    "requests.post(url, json=client).json()"
   ]
  }
 ],
 "metadata": {
  "kernelspec": {
   "display_name": "ml_camp",
   "language": "python",
   "name": "python3"
  },
  "language_info": {
   "codemirror_mode": {
    "name": "ipython",
    "version": 3
   },
   "file_extension": ".py",
   "mimetype": "text/x-python",
   "name": "python",
   "nbconvert_exporter": "python",
   "pygments_lexer": "ipython3",
   "version": "3.11.4"
  },
  "orig_nbformat": 4
 },
 "nbformat": 4,
 "nbformat_minor": 2
}
