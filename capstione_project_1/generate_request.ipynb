{
 "cells": [
  {
   "cell_type": "code",
   "execution_count": 1,
   "metadata": {},
   "outputs": [
    {
     "data": {
      "text/plain": [
       "{'result': \"ice on a hand and i am a getaway car fake fake fake fake fake fake fake hardwood cages tendency playboy counter fresh hits state sleepless pointed bunch wednesday burnin' liars gary chandelier punched sixties' vanished and you are the la la marvelous la marvelous mm la la marvelous motown la la marvelous la marvelous letter familiar rides gown dope apologies weekend organ  roller sights boyfriend \\x91cause playful hehe ladadada counting feast shot and bleachers staring playboy familiar will x streak to me up tragic hindsight stay and you are the one time are the way you are is a little ground bridesmaid\"}"
      ]
     },
     "execution_count": 1,
     "metadata": {},
     "output_type": "execute_result"
    }
   ],
   "source": [
    "import requests\n",
    "url = \"http://127.0.0.1:8000/generate\"\n",
    "data = {\"prompt\": \"ice on a hand\", \"temp\": 0.3}\n",
    "requests.post(url, json=data).json()"
   ]
  }
 ],
 "metadata": {
  "kernelspec": {
   "display_name": "ml_camp",
   "language": "python",
   "name": "python3"
  },
  "language_info": {
   "codemirror_mode": {
    "name": "ipython",
    "version": 3
   },
   "file_extension": ".py",
   "mimetype": "text/x-python",
   "name": "python",
   "nbconvert_exporter": "python",
   "pygments_lexer": "ipython3",
   "version": "3.11.4"
  }
 },
 "nbformat": 4,
 "nbformat_minor": 2
}
