{
 "cells": [
  {
   "cell_type": "markdown",
   "metadata": {},
   "source": [
    "# Exploratory Data Analysis Notebook\n",
    "\n",
    "Welcome to the Exploratory Data Analysis (EDA) Notebook. EDA is all about understanding the data, gaining insights, and identifying patterns which will inform how we model the data.\n",
    "\n",
    "## Objectives:\n",
    "- **Distribution Analysis**: Understanding the distribution of various features.\n",
    "- **Correlation Analysis**: Identifying relationships between different variables.\n",
    "- **Trend Analysis**: Discovering trends within the data.\n",
    "- **Feature Engineering**: Creating new features to better capture the underlying patterns in the data.\n",
    "\n",
    "## Dataset:\n",
    "In this notebook, we will be working with the cleaned dataset located at `./data/cleaned/movies_dataset.parquet`, which is the result of the cleaning process carried out in the preceding Data Cleaning Notebook.\n"
   ]
  }
 ],
 "metadata": {
  "language_info": {
   "name": "python"
  },
  "orig_nbformat": 4
 },
 "nbformat": 4,
 "nbformat_minor": 2
}
