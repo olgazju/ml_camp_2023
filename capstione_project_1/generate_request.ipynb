{
 "cells": [
  {
   "cell_type": "code",
   "execution_count": 2,
   "metadata": {},
   "outputs": [
    {
     "data": {
      "text/plain": [
       "{'result': 'ice on a hand of the fault i would do not try to take me now you are around you come down down and a way down the way you are in the scene and you are the party i was the age of you are what i am still trying to you go out my sleeve friends to see all over in the hand light a light me where you are not here but surreal done back to me if you have the postcard bandaids vending deadlines g5 like a girl i do not ever far out of your mind yeah i am'}"
      ]
     },
     "execution_count": 2,
     "metadata": {},
     "output_type": "execute_result"
    }
   ],
   "source": [
    "import requests\n",
    "url = \"http://127.0.0.1:8000/generate\"\n",
    "data = {\"prompt\": \"ice on a hand\", \"temp\": 0.6}\n",
    "requests.post(url, json=data).json()"
   ]
  }
 ],
 "metadata": {
  "kernelspec": {
   "display_name": "ml_camp",
   "language": "python",
   "name": "python3"
  },
  "language_info": {
   "codemirror_mode": {
    "name": "ipython",
    "version": 3
   },
   "file_extension": ".py",
   "mimetype": "text/x-python",
   "name": "python",
   "nbconvert_exporter": "python",
   "pygments_lexer": "ipython3",
   "version": "3.11.4"
  }
 },
 "nbformat": 4,
 "nbformat_minor": 2
}
