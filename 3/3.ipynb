{
 "cells": [
  {
   "cell_type": "markdown",
   "metadata": {},
   "source": [
    "Data preparation\n",
    "\n",
    "For the rest of the homework, you'll need to use only these columns:\n",
    "\n",
    "Make,\n",
    "Model,\n",
    "Year,\n",
    "Engine HP,\n",
    "Engine Cylinders,\n",
    "Transmission Type,\n",
    "Vehicle Style,\n",
    "highway MPG,\n",
    "city mpg\n",
    "\n",
    "Data preparation\n",
    "\n",
    "Select only the features from above and transform their names using next line:\n",
    "data.columns = data.columns.str.replace(' ', '_').str.lower()\n",
    "Fill in the missing values of the selected features with 0.\n",
    "Rename MSRP variable to price."
   ]
  },
  {
   "cell_type": "code",
   "execution_count": 29,
   "metadata": {},
   "outputs": [
    {
     "data": {
      "text/html": [
       "<div>\n",
       "<style scoped>\n",
       "    .dataframe tbody tr th:only-of-type {\n",
       "        vertical-align: middle;\n",
       "    }\n",
       "\n",
       "    .dataframe tbody tr th {\n",
       "        vertical-align: top;\n",
       "    }\n",
       "\n",
       "    .dataframe thead th {\n",
       "        text-align: right;\n",
       "    }\n",
       "</style>\n",
       "<table border=\"1\" class=\"dataframe\">\n",
       "  <thead>\n",
       "    <tr style=\"text-align: right;\">\n",
       "      <th></th>\n",
       "      <th>make</th>\n",
       "      <th>model</th>\n",
       "      <th>year</th>\n",
       "      <th>engine_hp</th>\n",
       "      <th>engine_cylinders</th>\n",
       "      <th>transmission_type</th>\n",
       "      <th>vehicle_style</th>\n",
       "      <th>highway_mpg</th>\n",
       "      <th>city_mpg</th>\n",
       "      <th>price</th>\n",
       "    </tr>\n",
       "  </thead>\n",
       "  <tbody>\n",
       "    <tr>\n",
       "      <th>0</th>\n",
       "      <td>BMW</td>\n",
       "      <td>1 Series M</td>\n",
       "      <td>2011</td>\n",
       "      <td>335.0</td>\n",
       "      <td>6.0</td>\n",
       "      <td>MANUAL</td>\n",
       "      <td>Coupe</td>\n",
       "      <td>26</td>\n",
       "      <td>19</td>\n",
       "      <td>46135</td>\n",
       "    </tr>\n",
       "    <tr>\n",
       "      <th>1</th>\n",
       "      <td>BMW</td>\n",
       "      <td>1 Series</td>\n",
       "      <td>2011</td>\n",
       "      <td>300.0</td>\n",
       "      <td>6.0</td>\n",
       "      <td>MANUAL</td>\n",
       "      <td>Convertible</td>\n",
       "      <td>28</td>\n",
       "      <td>19</td>\n",
       "      <td>40650</td>\n",
       "    </tr>\n",
       "    <tr>\n",
       "      <th>2</th>\n",
       "      <td>BMW</td>\n",
       "      <td>1 Series</td>\n",
       "      <td>2011</td>\n",
       "      <td>300.0</td>\n",
       "      <td>6.0</td>\n",
       "      <td>MANUAL</td>\n",
       "      <td>Coupe</td>\n",
       "      <td>28</td>\n",
       "      <td>20</td>\n",
       "      <td>36350</td>\n",
       "    </tr>\n",
       "    <tr>\n",
       "      <th>3</th>\n",
       "      <td>BMW</td>\n",
       "      <td>1 Series</td>\n",
       "      <td>2011</td>\n",
       "      <td>230.0</td>\n",
       "      <td>6.0</td>\n",
       "      <td>MANUAL</td>\n",
       "      <td>Coupe</td>\n",
       "      <td>28</td>\n",
       "      <td>18</td>\n",
       "      <td>29450</td>\n",
       "    </tr>\n",
       "    <tr>\n",
       "      <th>4</th>\n",
       "      <td>BMW</td>\n",
       "      <td>1 Series</td>\n",
       "      <td>2011</td>\n",
       "      <td>230.0</td>\n",
       "      <td>6.0</td>\n",
       "      <td>MANUAL</td>\n",
       "      <td>Convertible</td>\n",
       "      <td>28</td>\n",
       "      <td>18</td>\n",
       "      <td>34500</td>\n",
       "    </tr>\n",
       "  </tbody>\n",
       "</table>\n",
       "</div>"
      ],
      "text/plain": [
       "  make       model  year  engine_hp  engine_cylinders transmission_type  \\\n",
       "0  BMW  1 Series M  2011      335.0               6.0            MANUAL   \n",
       "1  BMW    1 Series  2011      300.0               6.0            MANUAL   \n",
       "2  BMW    1 Series  2011      300.0               6.0            MANUAL   \n",
       "3  BMW    1 Series  2011      230.0               6.0            MANUAL   \n",
       "4  BMW    1 Series  2011      230.0               6.0            MANUAL   \n",
       "\n",
       "  vehicle_style  highway_mpg  city_mpg  price  \n",
       "0         Coupe           26        19  46135  \n",
       "1   Convertible           28        19  40650  \n",
       "2         Coupe           28        20  36350  \n",
       "3         Coupe           28        18  29450  \n",
       "4   Convertible           28        18  34500  "
      ]
     },
     "execution_count": 29,
     "metadata": {},
     "output_type": "execute_result"
    }
   ],
   "source": [
    "import pandas as pd\n",
    "\n",
    "df = pd.read_csv(\"data.csv\")\n",
    "selected_columns = df[['Make', 'Model', 'Year', 'Engine HP', 'Engine Cylinders', 'Transmission Type', 'Vehicle Style', 'highway MPG', 'city mpg', 'MSRP']]\n",
    "\n",
    "selected_columns.columns = selected_columns.columns.str.replace(' ', '_').str.lower()\n",
    "\n",
    "selected_columns = selected_columns.fillna(0)\n",
    "\n",
    "selected_columns = selected_columns.rename(columns={'msrp': 'price'})\n",
    "selected_columns.head(5)"
   ]
  },
  {
   "cell_type": "markdown",
   "metadata": {},
   "source": [
    "Question 1\n",
    "What is the most frequent observation (mode) for the column transmission_type?\n",
    "\n",
    "AUTOMATIC\n",
    "MANUAL\n",
    "AUTOMATED_MANUAL\n",
    "DIRECT_DRIVE\n"
   ]
  },
  {
   "cell_type": "code",
   "execution_count": 30,
   "metadata": {},
   "outputs": [
    {
     "name": "stdout",
     "output_type": "stream",
     "text": [
      "AUTOMATIC\n"
     ]
    }
   ],
   "source": [
    "most_frequent_transmission = selected_columns['transmission_type'].mode().iloc[0]\n",
    "print(most_frequent_transmission)"
   ]
  },
  {
   "cell_type": "markdown",
   "metadata": {},
   "source": [
    "Question 2\n",
    "Create the correlation matrix for the numerical features of your dataset. In a correlation matrix, you compute the correlation coefficient between every pair of features in the dataset.\n",
    "\n",
    "What are the two features that have the biggest correlation in this dataset?\n",
    "\n",
    "engine_hp and year\n",
    "engine_hp and engine_cylinders\n",
    "highway_mpg and engine_cylinders\n",
    "highway_mpg and city_mpg"
   ]
  },
  {
   "cell_type": "code",
   "execution_count": 31,
   "metadata": {},
   "outputs": [
    {
     "name": "stdout",
     "output_type": "stream",
     "text": [
      "('highway_mpg', 'city_mpg')\n"
     ]
    }
   ],
   "source": [
    "# Select only the numerical columns\n",
    "numerical_columns = selected_columns.select_dtypes(\"number\")\n",
    "\n",
    "correlation_matrix = numerical_columns.corr()\n",
    "\n",
    "# Zero out the diagonal for ease of reading.\n",
    "for i in range(correlation_matrix.shape[0]):\n",
    "    correlation_matrix.iloc[i, i] = 0\n",
    "\n",
    "# Find the two features with the highest correlation\n",
    "max_corr_value = correlation_matrix.abs().max().max()\n",
    "result = correlation_matrix.where(correlation_matrix == max_corr_value).stack().index.tolist()[0]\n",
    "\n",
    "print(result)\n"
   ]
  },
  {
   "cell_type": "markdown",
   "metadata": {},
   "source": [
    "Make price binary\n",
    "\n",
    "Now we need to turn the price variable from numeric into a binary format.\n",
    "Let's create a variable above_average which is 1 if the price is above its mean value and 0 otherwise.\n",
    "\n",
    "Split the data\n",
    "\n",
    "Split your data in train/val/test sets with 60%/20%/20% distribution.\n",
    "Use Scikit-Learn for that (the train_test_split function) and set the seed to 42.\n",
    "Make sure that the target value (price) is not in your dataframe."
   ]
  },
  {
   "cell_type": "code",
   "execution_count": 32,
   "metadata": {},
   "outputs": [
    {
     "name": "stdout",
     "output_type": "stream",
     "text": [
      "Train shape: (7148, 10)\n",
      "Validation shape: (2383, 10)\n",
      "Test shape: (2383, 10)\n"
     ]
    }
   ],
   "source": [
    "from sklearn.model_selection import train_test_split\n",
    "\n",
    "selected_columns['above_average'] = (selected_columns['price'] > selected_columns['price'].mean()).astype(int)\n",
    "\n",
    "selected_columns = selected_columns.drop(columns=['price'])\n",
    "\n",
    "categorical_vars = list(selected_columns.dtypes[selected_columns.dtypes == 'object'].index)\n",
    "\n",
    "for c in categorical_vars:\n",
    "    selected_columns[c] = selected_columns[c].str.lower().str.replace(' ', '_')\n",
    "\n",
    "\n",
    "train_val, test = train_test_split(selected_columns, test_size=0.2, random_state=42)\n",
    "train, val = train_test_split(train_val, test_size=0.25, random_state=42)  # Ensures train is 60% and val is 20%\n",
    "\n",
    "print(\"Train shape:\", train.shape)\n",
    "print(\"Validation shape:\", val.shape)\n",
    "print(\"Test shape:\", test.shape)\n",
    "\n",
    "y_train = train.above_average.values\n",
    "y_val = val.above_average.values\n",
    "\n",
    "train.drop(['above_average'], axis=1, inplace=True)\n",
    "val.drop(['above_average'], axis=1, inplace=True)\n"
   ]
  },
  {
   "cell_type": "markdown",
   "metadata": {},
   "source": [
    "Question 3\n",
    "\n",
    "Calculate the mutual information score between above_average and other categorical variables in our dataset. Use the training set only.\n",
    "Round the scores to 2 decimals using round(score, 2).\n",
    "Which of these variables has the lowest mutual information score?\n",
    "\n",
    "make\n",
    "model\n",
    "transmission_type\n",
    "vehicle_style\n"
   ]
  },
  {
   "cell_type": "code",
   "execution_count": 33,
   "metadata": {},
   "outputs": [
    {
     "name": "stdout",
     "output_type": "stream",
     "text": [
      "{'make': 0.23, 'model': 0.41, 'transmission_type': 0.02, 'vehicle_style': 0.09}\n",
      "Variable with the lowest mutual information score: transmission_type\n"
     ]
    }
   ],
   "source": [
    "from sklearn.feature_selection import mutual_info_classif\n",
    "\n",
    "mi_scores = {}\n",
    "for var in categorical_vars:\n",
    "    mi = mutual_info_classif(train[var].astype('category').cat.codes.values.reshape(-1, 1), y_train)\n",
    "    mi_scores[var] = round(mi[0], 2)\n",
    "\n",
    "lowest_mi_var = min(mi_scores, key=mi_scores.get)\n",
    "\n",
    "print(mi_scores)\n",
    "print(\"Variable with the lowest mutual information score:\", lowest_mi_var)\n"
   ]
  },
  {
   "cell_type": "markdown",
   "metadata": {},
   "source": [
    "Question 4\n",
    "\n",
    "Now let's train a logistic regression.\n",
    "Remember that we have several categorical variables in the dataset. Include them using one-hot encoding.\n",
    "Fit the model on the training dataset.\n",
    "To make sure the results are reproducible across different versions of Scikit-Learn, fit the model with these parameters:\n",
    "model = LogisticRegression(solver='liblinear', C=10, max_iter=1000, random_state=42)\n",
    "Calculate the accuracy on the validation dataset and round it to 2 decimal digits.\n",
    "What accuracy did you get?\n",
    "\n",
    "0.60\n",
    "0.72\n",
    "0.84\n",
    "0.95"
   ]
  },
  {
   "cell_type": "code",
   "execution_count": 34,
   "metadata": {},
   "outputs": [
    {
     "name": "stdout",
     "output_type": "stream",
     "text": [
      "0.95\n"
     ]
    }
   ],
   "source": [
    "from sklearn.linear_model import LogisticRegression\n",
    "from sklearn.metrics import accuracy_score\n",
    "from sklearn.feature_extraction import DictVectorizer\n",
    "\n",
    "\n",
    "train_dict = train.to_dict(orient='records')\n",
    "val_dict = val.to_dict(orient='records')\n",
    "\n",
    "dv = DictVectorizer(sparse=False)\n",
    "X_train = dv.fit_transform(train_dict)\n",
    "X_val = dv.transform(val_dict)\n",
    "\n",
    "model = LogisticRegression(solver='liblinear', C=10, max_iter=1000, random_state=42)\n",
    "model.fit(X_train, y_train)\n",
    "\n",
    "val_predictions = model.predict(X_val)\n",
    "accuracy = accuracy_score(y_val, val_predictions)\n",
    "rounded_accuracy = round(accuracy, 2)\n",
    "\n",
    "print(rounded_accuracy)\n"
   ]
  },
  {
   "cell_type": "markdown",
   "metadata": {},
   "source": [
    "Question 5\n",
    "\n",
    "Let's find the least useful feature using the feature elimination technique.\n",
    "Train a model with all these features (using the same parameters as in Q4).\n",
    "Now exclude each feature from this set and train a model without it. Record the accuracy for each model.\n",
    "For each feature, calculate the difference between the original accuracy and the accuracy without the feature.\n",
    "Which of following feature has the smallest difference?\n",
    "\n",
    "year\n",
    "engine_hp\n",
    "transmission_type\n",
    "city_mpg\n",
    "Note: the difference doesn't have to be positive"
   ]
  },
  {
   "cell_type": "code",
   "execution_count": 43,
   "metadata": {},
   "outputs": [
    {
     "name": "stdout",
     "output_type": "stream",
     "text": [
      "originalaccuracy: 0.8850188837599664\n",
      "accuracy_without_feature year 0.8854385228703315\n",
      "accuracy_without_feature engine_hp 0.7444397817876626\n",
      "accuracy_without_feature transmission_type 0.8820814099874108\n",
      "accuracy_without_feature city_mpg 0.8766261015526647\n",
      "{'year': 0.00041963911036513313, 'engine_hp': 0.14057910197230383, 'transmission_type': 0.002937473772555599, 'city_mpg': 0.008392782207301663}\n",
      "\n",
      "Feature with the smallest difference: year\n"
     ]
    }
   ],
   "source": [
    "from sklearn.linear_model import LogisticRegression\n",
    "from sklearn.metrics import accuracy_score\n",
    "from sklearn.feature_extraction import DictVectorizer\n",
    "\n",
    "# All features (excluding the target 'above_average')\n",
    "features = ['year','engine_hp','transmission_type','city_mpg']\n",
    "train = train[['year','engine_hp','transmission_type','city_mpg']]\n",
    "val = val[['year','engine_hp','transmission_type','city_mpg']]\n",
    "differences = {}\n",
    "\n",
    "train_dict = train.to_dict(orient='records')\n",
    "val_dict = val.to_dict(orient='records')\n",
    "\n",
    "dv = DictVectorizer(sparse=False)\n",
    "X_train = dv.fit_transform(train_dict)\n",
    "X_val = dv.transform(val_dict)\n",
    "\n",
    "# Train a model using all features\n",
    "model = LogisticRegression(solver='liblinear', C=10, max_iter=1000, random_state=42)\n",
    "model.fit(X_train, y_train)\n",
    "original_accuracy = accuracy_score(y_val, model.predict(X_val))\n",
    "print(\"originalaccuracy:\", original_accuracy)\n",
    "\n",
    "for feature in features:\n",
    "    # Exclude the feature\n",
    "    cols_to_use = [col for col in train.columns if col != feature]\n",
    "    \n",
    "    train_dict = train[cols_to_use].to_dict(orient='records')\n",
    "    val_dict = val[cols_to_use].to_dict(orient='records')\n",
    "    \n",
    "    dv = DictVectorizer(sparse=False)\n",
    "    X_train_sub = dv.fit_transform(train_dict)\n",
    "    X_val_sub = dv.transform(val_dict)\n",
    "    \n",
    "    # Train a model without the feature\n",
    "    model = LogisticRegression(solver='liblinear', C=10, max_iter=1000, random_state=42)\n",
    "    model.fit(X_train_sub, y_train)\n",
    "    \n",
    "    # Calculate accuracy difference\n",
    "    accuracy_without_feature = accuracy_score(y_val, model.predict(X_val_sub))\n",
    "    print(\"accuracy_without_feature\", feature, accuracy_without_feature)\n",
    "    differences[feature] = abs(original_accuracy - accuracy_without_feature)\n",
    "\n",
    "# Find the feature with the smallest difference\n",
    "least_impactful_feature = min(differences, key=differences.get)\n",
    "print(differences)\n",
    "print(\"\\nFeature with the smallest difference:\", least_impactful_feature)\n"
   ]
  },
  {
   "cell_type": "markdown",
   "metadata": {},
   "source": [
    "Question 6\n",
    "\n",
    "For this question, we'll see how to use a linear regression model from Scikit-Learn.\n",
    "We'll need to use the original column price. Apply the logarithmic transformation to this column.\n",
    "Fit the Ridge regression model on the training data with a solver 'sag'. Set the seed to 42.\n",
    "This model also has a parameter alpha. Let's try the following values: [0, 0.01, 0.1, 1, 10].\n",
    "Round your RMSE scores to 3 decimal digits.\n",
    "Which of these alphas leads to the best RMSE on the validation set?\n",
    "\n",
    "0\n",
    "0.01\n",
    "0.1\n",
    "1\n",
    "10\n"
   ]
  },
  {
   "cell_type": "code",
   "execution_count": 3,
   "metadata": {},
   "outputs": [
    {
     "name": "stdout",
     "output_type": "stream",
     "text": [
      "Train shape: (7148, 10)\n",
      "Validation shape: (2383, 10)\n",
      "Test shape: (2383, 10)\n",
      "{0: 0.255, 0.01: 0.255, 0.1: 0.255, 1: 0.258, 10: 0.336}\n",
      "\n",
      "Best alpha: 0\n"
     ]
    }
   ],
   "source": [
    "import numpy as np\n",
    "from sklearn.linear_model import Ridge\n",
    "from sklearn.metrics import mean_squared_error\n",
    "from sklearn.model_selection import train_test_split\n",
    "from sklearn.feature_extraction import DictVectorizer\n",
    "\n",
    "import pandas as pd\n",
    "\n",
    "df = pd.read_csv(\"data.csv\")\n",
    "selected_columns = df[['Make', 'Model', 'Year', 'Engine HP', 'Engine Cylinders', 'Transmission Type', 'Vehicle Style', 'highway MPG', 'city mpg', 'MSRP']]\n",
    "\n",
    "selected_columns.columns = selected_columns.columns.str.replace(' ', '_').str.lower()\n",
    "\n",
    "selected_columns = selected_columns.fillna(0)\n",
    "\n",
    "selected_columns = selected_columns.rename(columns={'msrp': 'price'})\n",
    "\n",
    "selected_columns['price'] = np.log1p(selected_columns['price'])\n",
    "\n",
    "categorical_vars = list(selected_columns.dtypes[selected_columns.dtypes == 'object'].index)\n",
    "\n",
    "for c in categorical_vars:\n",
    "    selected_columns[c] = selected_columns[c].str.lower().str.replace(' ', '_')\n",
    "\n",
    "train_val, test = train_test_split(selected_columns, test_size=0.2, random_state=42)\n",
    "train, val = train_test_split(train_val, test_size=0.25, random_state=42)  # Ensures train is 60% and val is 20%\n",
    "\n",
    "print(\"Train shape:\", train.shape)\n",
    "print(\"Validation shape:\", val.shape)\n",
    "print(\"Test shape:\", test.shape)\n",
    "\n",
    "# Prepare datasets\n",
    "train_dict = train.drop(columns=['price']).to_dict(orient='records')\n",
    "val_dict = val.drop(columns=['price']).to_dict(orient='records')\n",
    "\n",
    "dv = DictVectorizer(sparse=True)\n",
    "X_train = dv.fit_transform(train_dict)\n",
    "X_val = dv.transform(val_dict)\n",
    "\n",
    "# Try various alpha values and record RMSE\n",
    "alphas = [0, 0.01, 0.1, 1, 10]\n",
    "rmse_scores = {}\n",
    "\n",
    "for alpha in alphas:\n",
    "    model = Ridge(alpha=alpha, solver='sag', random_state=42)\n",
    "    model.fit(X_train, train['price'])\n",
    "    \n",
    "    val_predictions = model.predict(X_val)\n",
    "    rmse = mean_squared_error(val['price'], val_predictions, squared=False)\n",
    "    rmse_scores[alpha] = round(rmse, 3)\n",
    "\n",
    "# Find the alpha leading to the best RMSE\n",
    "best_alpha = min(rmse_scores, key=rmse_scores.get)\n",
    "print(rmse_scores)\n",
    "print(\"\\nBest alpha:\", best_alpha)"
   ]
  }
 ],
 "metadata": {
  "kernelspec": {
   "display_name": "ml_camp",
   "language": "python",
   "name": "python3"
  },
  "language_info": {
   "codemirror_mode": {
    "name": "ipython",
    "version": 3
   },
   "file_extension": ".py",
   "mimetype": "text/x-python",
   "name": "python",
   "nbconvert_exporter": "python",
   "pygments_lexer": "ipython3",
   "version": "3.11.4"
  },
  "orig_nbformat": 4
 },
 "nbformat": 4,
 "nbformat_minor": 2
}
